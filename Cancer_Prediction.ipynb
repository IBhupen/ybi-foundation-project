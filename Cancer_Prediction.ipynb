{
  "cells": [
    {
      "cell_type": "markdown",
      "metadata": {
        "id": "view-in-github",
        "colab_type": "text"
      },
      "source": [
        "<a href=\"https://colab.research.google.com/github/IBhupen/ybi-foundation-project/blob/main/Cancer_Prediction.ipynb\" target=\"_parent\"><img src=\"https://colab.research.google.com/assets/colab-badge.svg\" alt=\"Open In Colab\"/></a>"
      ]
    },
    {
      "cell_type": "markdown",
      "id": "965af1af",
      "metadata": {
        "id": "965af1af"
      },
      "source": [
        "# Cancer Prediction (Breast Cancer Wisconsin Dataset)\n",
        "\n",
        "This notebook builds machine-learning models to predict whether a tumor is **malignant** or **benign** using the classic Breast Cancer Wisconsin dataset from scikit-learn.\n",
        "\n",
        "**Contents**\n",
        "1. Setup & Data Load\n",
        "2. Exploratory Data Analysis (EDA)\n",
        "3. Preprocessing & Train/Test Split\n",
        "4. Baseline Model (Logistic Regression)\n",
        "5. Additional Models (kNN, Random Forest, SVM)\n",
        "6. Cross-Validation\n",
        "7. Evaluation (Accuracy, Precision, Recall, F1, ROC-AUC)\n",
        "8. Feature Importance & Interpretability (Permutation Importance)\n",
        "9. Save Trained Model\n",
        "\n",
        "**How to run:** Execute each cell from top to bottom. All libraries used are standard in most Python ML environments."
      ]
    },
    {
      "cell_type": "markdown",
      "id": "1536a5f7",
      "metadata": {
        "id": "1536a5f7"
      },
      "source": [
        "## 1) Setup & Data Load"
      ]
    },
    {
      "cell_type": "code",
      "execution_count": null,
      "id": "feff9abc",
      "metadata": {
        "id": "feff9abc"
      },
      "outputs": [],
      "source": [
        "import numpy as np\n",
        "import pandas as pd\n",
        "import matplotlib.pyplot as plt\n",
        "from sklearn.datasets import load_breast_cancer\n",
        "from sklearn.model_selection import train_test_split, cross_val_score, StratifiedKFold\n",
        "from sklearn.preprocessing import StandardScaler\n",
        "from sklearn.pipeline import Pipeline\n",
        "from sklearn.metrics import accuracy_score, precision_score, recall_score, f1_score, roc_auc_score, roc_curve, confusion_matrix, ConfusionMatrixDisplay, classification_report\n",
        "from sklearn.inspection import permutation_importance\n",
        "from sklearn.linear_model import LogisticRegression\n",
        "from sklearn.neighbors import KNeighborsClassifier\n",
        "from sklearn.ensemble import RandomForestClassifier\n",
        "from sklearn.svm import SVC\n",
        "import joblib\n",
        "\n",
        "data = load_breast_cancer()\n",
        "X = pd.DataFrame(data.data, columns=data.feature_names)\n",
        "y = pd.Series(data.target, name='target')\n",
        "target_names = list(data.target_names)\n",
        "X.head()"
      ]
    },
    {
      "cell_type": "markdown",
      "id": "a5775d43",
      "metadata": {
        "id": "a5775d43"
      },
      "source": [
        "## 2) Exploratory Data Analysis (EDA)"
      ]
    },
    {
      "cell_type": "code",
      "execution_count": null,
      "id": "0763b246",
      "metadata": {
        "id": "0763b246"
      },
      "outputs": [],
      "source": [
        "# Basic shape and info\n",
        "print('Shape:', X.shape)\n",
        "print('\\nMissing values per column (should be zeros):\\n', X.isna().sum().sort_values(ascending=False).head())\n",
        "display(X.describe().T)"
      ]
    },
    {
      "cell_type": "code",
      "execution_count": null,
      "id": "826f8f4a",
      "metadata": {
        "id": "826f8f4a"
      },
      "outputs": [],
      "source": [
        "# Class balance\n",
        "classes, counts = np.unique(y, return_counts=True)\n",
        "for c, cnt in zip(classes, counts):\n",
        "    print(f'Class {c} ({target_names[c]}): {cnt}')"
      ]
    },
    {
      "cell_type": "markdown",
      "id": "6c73207d",
      "metadata": {
        "id": "6c73207d"
      },
      "source": [
        "## 3) Preprocessing & Train/Test Split"
      ]
    },
    {
      "cell_type": "code",
      "execution_count": null,
      "id": "13c3b5f6",
      "metadata": {
        "id": "13c3b5f6"
      },
      "outputs": [],
      "source": [
        "X_train, X_test, y_train, y_test = train_test_split(\n",
        "    X, y, test_size=0.2, random_state=42, stratify=y\n",
        ")\n",
        "print('Train shape:', X_train.shape, ' Test shape:', X_test.shape)"
      ]
    },
    {
      "cell_type": "markdown",
      "id": "12714d66",
      "metadata": {
        "id": "12714d66"
      },
      "source": [
        "## 4) Baseline Model — Logistic Regression"
      ]
    },
    {
      "cell_type": "code",
      "execution_count": null,
      "id": "453fa37a",
      "metadata": {
        "id": "453fa37a"
      },
      "outputs": [],
      "source": [
        "logreg = Pipeline([\n",
        "    ('scaler', StandardScaler()),\n",
        "    ('clf', LogisticRegression(max_iter=500, n_jobs=None))\n",
        "])\n",
        "logreg.fit(X_train, y_train)\n",
        "y_pred_lr = logreg.predict(X_test)\n",
        "y_prob_lr = logreg.predict_proba(X_test)[:, 1]\n",
        "print('LogReg Accuracy:', accuracy_score(y_test, y_pred_lr))\n",
        "print(classification_report(y_test, y_pred_lr, target_names=target_names))"
      ]
    },
    {
      "cell_type": "markdown",
      "id": "dc081de8",
      "metadata": {
        "id": "dc081de8"
      },
      "source": [
        "## 5) Additional Models — kNN, Random Forest, SVM"
      ]
    },
    {
      "cell_type": "code",
      "execution_count": null,
      "id": "9717b592",
      "metadata": {
        "id": "9717b592"
      },
      "outputs": [],
      "source": [
        "knn = Pipeline([\n",
        "    ('scaler', StandardScaler()),\n",
        "    ('clf', KNeighborsClassifier(n_neighbors=7))\n",
        "])\n",
        "rf = RandomForestClassifier(n_estimators=300, random_state=42)\n",
        "svm = Pipeline([\n",
        "    ('scaler', StandardScaler()),\n",
        "    ('clf', SVC(kernel='rbf', probability=True, C=2.0, gamma='scale', random_state=42))\n",
        "])\n",
        "\n",
        "models = {\n",
        "    'LogisticRegression': logreg,\n",
        "    'kNN': knn,\n",
        "    'RandomForest': rf,\n",
        "    'SVM': svm,\n",
        "}\n",
        "\n",
        "for name, model in models.items():\n",
        "    model.fit(X_train, y_train)\n",
        "print('All models trained.')"
      ]
    },
    {
      "cell_type": "markdown",
      "id": "53394b6c",
      "metadata": {
        "id": "53394b6c"
      },
      "source": [
        "## 6) Cross-Validation"
      ]
    },
    {
      "cell_type": "code",
      "execution_count": null,
      "id": "1773b03a",
      "metadata": {
        "id": "1773b03a"
      },
      "outputs": [],
      "source": [
        "cv = StratifiedKFold(n_splits=5, shuffle=True, random_state=42)\n",
        "cv_scores = {}\n",
        "for name, model in models.items():\n",
        "    scores = cross_val_score(model, X, y, cv=cv, scoring='accuracy')\n",
        "    cv_scores[name] = (scores.mean(), scores.std())\n",
        "cv_scores"
      ]
    },
    {
      "cell_type": "markdown",
      "id": "c9eaac61",
      "metadata": {
        "id": "c9eaac61"
      },
      "source": [
        "## 7) Evaluation — Metrics & ROC Curves"
      ]
    },
    {
      "cell_type": "code",
      "execution_count": null,
      "id": "d8410364",
      "metadata": {
        "id": "d8410364"
      },
      "outputs": [],
      "source": [
        "import itertools\n",
        "def evaluate(model, name):\n",
        "    y_pred = model.predict(X_test)\n",
        "    if hasattr(model, 'predict_proba'):\n",
        "        y_prob = model.predict_proba(X_test)[:, 1]\n",
        "    else:\n",
        "        # use decision_function if available, else fallback\n",
        "        if hasattr(model, 'decision_function'):\n",
        "            from sklearn.metrics import roc_auc_score\n",
        "            scores = model.decision_function(X_test)\n",
        "            # Scale decision scores to [0,1] by ranking\n",
        "            ranks = pd.Series(scores).rank(method='average') / len(scores)\n",
        "            y_prob = ranks.values\n",
        "        else:\n",
        "            y_prob = np.zeros_like(y_pred, dtype=float)\n",
        "    acc = accuracy_score(y_test, y_pred)\n",
        "    prec = precision_score(y_test, y_pred)\n",
        "    rec = recall_score(y_test, y_pred)\n",
        "    f1 = f1_score(y_test, y_pred)\n",
        "    try:\n",
        "        auc = roc_auc_score(y_test, y_prob)\n",
        "    except Exception:\n",
        "        auc = float('nan')\n",
        "    cm = confusion_matrix(y_test, y_pred)\n",
        "    disp = ConfusionMatrixDisplay(confusion_matrix=cm, display_labels=target_names)\n",
        "    disp.plot()\n",
        "    plt.title(f'Confusion Matrix — {name}')\n",
        "    plt.show()\n",
        "    # ROC curve — one plot per model (no subplots, no custom colors per instructions)\n",
        "    fpr, tpr, _ = roc_curve(y_test, y_prob)\n",
        "    plt.figure()\n",
        "    plt.plot(fpr, tpr, label=f'{name}')\n",
        "    plt.plot([0,1],[0,1],'--')\n",
        "    plt.xlabel('False Positive Rate')\n",
        "    plt.ylabel('True Positive Rate')\n",
        "    plt.title(f'ROC Curve — {name} (AUC={auc:.3f})')\n",
        "    plt.legend()\n",
        "    plt.show()\n",
        "    return {'model': name, 'accuracy': acc, 'precision': prec, 'recall': rec, 'f1': f1, 'roc_auc': auc}\n",
        "\n",
        "results = []\n",
        "for name, model in models.items():\n",
        "    results.append(evaluate(model, name))\n",
        "results_df = pd.DataFrame(results)\n",
        "results_df.sort_values('f1', ascending=False)"
      ]
    },
    {
      "cell_type": "markdown",
      "id": "ea49ee2e",
      "metadata": {
        "id": "ea49ee2e"
      },
      "source": [
        "## 8) Feature Importance (Permutation)"
      ]
    },
    {
      "cell_type": "code",
      "execution_count": null,
      "id": "59be8c68",
      "metadata": {
        "id": "59be8c68"
      },
      "outputs": [],
      "source": [
        "# We'll use permutation importance on the RandomForest model as an example\n",
        "rf.fit(X_train, y_train)\n",
        "r = permutation_importance(rf, X_test, y_test, n_repeats=10, random_state=42)\n",
        "importances = pd.Series(r.importances_mean, index=X.columns).sort_values(ascending=False)\n",
        "display(importances.head(15))\n",
        "plt.figure()\n",
        "importances.head(15)[::-1].plot(kind='barh')\n",
        "plt.title('Top 15 Features (Permutation Importance) — RandomForest')\n",
        "plt.tight_layout()\n",
        "plt.show()"
      ]
    },
    {
      "cell_type": "markdown",
      "id": "b84541fe",
      "metadata": {
        "id": "b84541fe"
      },
      "source": [
        "## 9) Save Trained Model"
      ]
    },
    {
      "cell_type": "code",
      "execution_count": null,
      "id": "08b26545",
      "metadata": {
        "id": "08b26545"
      },
      "outputs": [],
      "source": [
        "best_model_name = results_df.sort_values('f1', ascending=False).iloc[0]['model']\n",
        "best_model = models[best_model_name]\n",
        "joblib.dump(best_model, 'best_cancer_model.joblib')\n",
        "print('Best model saved as best_cancer_model.joblib')"
      ]
    },
    {
      "cell_type": "markdown",
      "id": "566af6e7",
      "metadata": {
        "id": "566af6e7"
      },
      "source": [
        "---\n",
        "### Notes\n",
        "- Dataset source: `sklearn.datasets.load_breast_cancer()`\n",
        "- Target classes: 0 = malignant, 1 = benign (per `data.target_names`)\n",
        "- Feel free to add hyperparameter tuning (GridSearchCV/RandomizedSearchCV) if required.\n",
        "- The notebook keeps charts simple (matplotlib, single-chart figures)."
      ]
    }
  ],
  "metadata": {
    "colab": {
      "provenance": [],
      "include_colab_link": true
    }
  },
  "nbformat": 4,
  "nbformat_minor": 5
}